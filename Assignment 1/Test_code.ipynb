{
 "cells": [
  {
   "cell_type": "code",
   "execution_count": 7,
   "metadata": {},
   "outputs": [
    {
     "name": "stdout",
     "output_type": "stream",
     "text": [
      "253\n",
      "0.15328132978178638\n",
      "The number of people is 613\n"
     ]
    }
   ],
   "source": [
    "import random\n",
    "def find(n):\n",
    "    p1 = ((364/365)**n)\n",
    "    p2 = (364/365**(n-1))*(n/365)\n",
    "    if 1-p1-p2>=0.5:\n",
    "        print(n)\n",
    "        print(str(1-((364/365)**n)-(n/365)*((364/365)**(n-1))))\n",
    "    else:\n",
    "        find(n+1)\n",
    "find(0)\n",
    "\n",
    "def bailu(n):\n",
    "    i=(364/365)\n",
    "    j=(n/365)\n",
    "    k= 1-(i**n)-(i**(n-1))*j\n",
    "    if k>=0.5:\n",
    "        print(\"The number of people is\",n)\n",
    "    else:\n",
    "        bailu(n+1)\n",
    "bailu(0)"
   ]
  },
  {
   "cell_type": "code",
   "execution_count": null,
   "metadata": {},
   "outputs": [],
   "source": []
  }
 ],
 "metadata": {
  "kernelspec": {
   "display_name": "Python 3",
   "language": "python",
   "name": "python3"
  },
  "language_info": {
   "codemirror_mode": {
    "name": "ipython",
    "version": 3
   },
   "file_extension": ".py",
   "mimetype": "text/x-python",
   "name": "python",
   "nbconvert_exporter": "python",
   "pygments_lexer": "ipython3",
   "version": "3.6.5"
  }
 },
 "nbformat": 4,
 "nbformat_minor": 2
}
