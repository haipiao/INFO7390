{
 "cells": [
  {
   "cell_type": "code",
   "execution_count": 1,
   "metadata": {},
   "outputs": [
    {
     "name": "stderr",
     "output_type": "stream",
     "text": [
      "F:\\Anaconda\\lib\\site-packages\\h5py\\__init__.py:36: FutureWarning: Conversion of the second argument of issubdtype from `float` to `np.floating` is deprecated. In future, it will be treated as `np.float64 == np.dtype(float).type`.\n",
      "  from ._conv import register_converters as _register_converters\n",
      "Using TensorFlow backend.\n"
     ]
    }
   ],
   "source": [
    "import tensorflow as tf\n",
    "import numpy as np\n",
    "import keras\n",
    "import pandas as pd\n",
    "\n",
    "x_train = pd.read_csv('trainingfeatures.csv').drop(columns=['Unnamed: 0'])\n",
    "y_train = pd.read_csv('traininglabels.csv').drop(columns=['Unnamed: 0'])\n",
    "x_test = pd.read_csv('testingfeatures.csv').drop(columns=['Unnamed: 0'])\n",
    "y_test = pd.read_csv('testinglabels.csv').drop(columns=['Unnamed: 0'])\n",
    "temp_x_train=[]\n",
    "\n",
    "for row in x_train.iterrows():\n",
    "    index, data = row\n",
    "    temp_x_train.append(data.tolist())\n",
    "temp_y_train=[]\n",
    "\n",
    "for row in y_train.iterrows():\n",
    "    index, data = row\n",
    "    temp_y_train.append(data.tolist())\n",
    "\n",
    "temp_x_test=[]\n",
    "\n",
    "for row in x_test.iterrows():\n",
    "    index, data = row\n",
    "    temp_x_test.append(data.tolist())\n",
    "temp_y_test=[]\n",
    "\n",
    "for row in y_test.iterrows():\n",
    "    index, data = row\n",
    "    temp_y_test.append(data.tolist())\n",
    "    \n",
    "x= np.array(temp_x_train)\n",
    "\n",
    "y=np.array(keras.utils.to_categorical(y_train))\n",
    "num_input =  3 # MNIST data input \n",
    "num_classes = 4 # MNIST total classes (0-3 digits)"
   ]
  },
  {
   "cell_type": "markdown",
   "metadata": {},
   "source": [
    "## Part D Change Epochs \n",
    "\n",
    "Activation = tanh + relu + softmax\n",
    "\n",
    "Loss = cross_entropy\n",
    "\n",
    "Epochs = **10000->5000**"
   ]
  },
  {
   "cell_type": "code",
   "execution_count": 4,
   "metadata": {},
   "outputs": [
    {
     "name": "stdout",
     "output_type": "stream",
     "text": [
      "Iter: 1, Loss: 0.2842\n",
      "Accurancy: 0.255\n",
      "Iter: 501, Loss: 0.1711\n",
      "Accurancy: 0.3425\n",
      "Iter: 1001, Loss: 0.1563\n",
      "Accurancy: 0.394\n",
      "Iter: 1501, Loss: 0.1554\n",
      "Accurancy: 0.404\n",
      "Iter: 2001, Loss: 0.1548\n",
      "Accurancy: 0.404\n",
      "Iter: 2501, Loss: 0.1546\n",
      "Accurancy: 0.404\n",
      "Iter: 3001, Loss: 0.1542\n",
      "Accurancy: 0.404\n",
      "Iter: 3501, Loss: 0.1540\n",
      "Accurancy: 0.40425\n",
      "Iter: 4001, Loss: 0.1540\n",
      "Accurancy: 0.4045\n",
      "Iter: 4501, Loss: 0.1538\n",
      "Accurancy: 0.4045\n",
      "Test accuracy: 0.63262767\n"
     ]
    }
   ],
   "source": [
    "EPOCHS = 5000\n",
    "BATCH_SIZE = 1000\n",
    "display_step = 500\n",
    "with tf.name_scope('Inputs_D'):\n",
    "    X = tf.placeholder(\"float\", [None, num_input],name='Features_D')\n",
    "    Y = tf.placeholder(\"float\", [None, num_classes],name='Label_D')\n",
    "\n",
    "# using two numpy arrays\n",
    "features, labels = (X, Y)\n",
    "\n",
    "# make a simple model\n",
    "def Neuron(x):\n",
    "    with tf.name_scope('layer1_D'):\n",
    "        net = tf.layers.dense(x, 100, activation=tf.nn.relu)\n",
    "        \n",
    "    with tf.name_scope('layer2_D'):\n",
    "        net = tf.layers.dense(net, 50, activation=tf.tanh)\n",
    "        \n",
    "    with tf.name_scope('layer3_D'):    \n",
    "        net = tf.layers.dense(net, 20, activation=tf.nn.softmax)\n",
    "        \n",
    "    with tf.name_scope('out_layer_D'):    \n",
    "        prediction = tf.layers.dense(net, 4)\n",
    "    return prediction\n",
    "\n",
    "\n",
    "prediction = Neuron(X)\n",
    "#loss = tf.reduce_mean(tf.nn.softmax_cross_entropy_with_logits(logits=prediction, labels=Y)) \n",
    "\n",
    "loss = tf.losses.mean_squared_error(labels=Y, predictions=prediction)\n",
    "tf.summary.scalar('loss_D',loss)\n",
    "#tf.losses.mean_squared_error(prediction, y) # pass the second value \n",
    "correct_pred = tf.equal(tf.argmax(prediction, 1), tf.argmax(Y, 1))\n",
    "accuracy = tf.reduce_mean(tf.cast(correct_pred, tf.float32))\n",
    "tf.summary.scalar('acuracy_D',accuracy)\n",
    "#from iter.get_net() as label\n",
    "train_op = tf.train.AdamOptimizer().minimize(loss)\n",
    "with tf.Session() as sess:\n",
    "    sess.run(tf.global_variables_initializer())\n",
    "    sess.run(tf.local_variables_initializer())\n",
    "    merge_summary= tf.summary.merge_all()\n",
    "    writer = tf.summary.FileWriter('C:/Users/BoyangWei.LAPTOP-SRSNTDRH/7390/TensorFlow/files/D')\n",
    "    writer.add_graph(sess.graph)\n",
    "    for i in range(EPOCHS):\n",
    "        _, loss_value,acc_value = sess.run([train_op, loss,accuracy],feed_dict={X: x, Y: y})\n",
    "        if i% display_step == 0:\n",
    "            print(\"Iter: {}, Loss: {:.4f}\".format(i+1, loss_value)) \n",
    "            print(\"Accurancy: \" +str(acc_value))\n",
    "            summary=sess.run(merge_summary,feed_dict={X: x,Y: y})\n",
    "            writer.add_summary(summary,i)\n",
    "    correct_pred = tf.equal(tf.argmax(prediction, 1), tf.argmax(Y, 1))\n",
    "    accuracy = tf.reduce_mean(tf.cast(correct_pred, tf.float32))\n",
    "    print(\"Test accuracy: \"+ str(accuracy.eval({X: np.array(temp_x_test), Y: np.array(keras.utils.to_categorical(y_test))})))"
   ]
  },
  {
   "cell_type": "markdown",
   "metadata": {},
   "source": [
    "* Change the number of epochs initialization. How does it effect the accuracy?\n",
    "\n",
    "**Answer:** The Auccracy gets decreased.\n",
    "\n",
    "* How does it effect how quickly the network plateaus?\n",
    "\n",
    "**Answer:**  The plateaus gets longer."
   ]
  }
 ],
 "metadata": {
  "kernelspec": {
   "display_name": "Python 3",
   "language": "python",
   "name": "python3"
  },
  "language_info": {
   "codemirror_mode": {
    "name": "ipython",
    "version": 3
   },
   "file_extension": ".py",
   "mimetype": "text/x-python",
   "name": "python",
   "nbconvert_exporter": "python",
   "pygments_lexer": "ipython3",
   "version": "3.6.5"
  }
 },
 "nbformat": 4,
 "nbformat_minor": 2
}
