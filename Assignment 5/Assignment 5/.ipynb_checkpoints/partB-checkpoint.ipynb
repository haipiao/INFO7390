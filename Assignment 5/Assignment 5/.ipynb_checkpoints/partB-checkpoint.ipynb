{
 "cells": [
  {
   "cell_type": "code",
   "execution_count": null,
   "metadata": {},
   "outputs": [],
   "source": [
    "import tensorflow as tf\n",
    "import numpy as np\n",
    "import keras\n",
    "import pandas as pd\n",
    "\n",
    "x_train = pd.read_csv('trainingfeatures.csv').drop(columns=['Unnamed: 0'])\n",
    "y_train = pd.read_csv('traininglabels.csv').drop(columns=['Unnamed: 0'])\n",
    "x_test = pd.read_csv('testingfeatures.csv').drop(columns=['Unnamed: 0'])\n",
    "y_test = pd.read_csv('testinglabels.csv').drop(columns=['Unnamed: 0'])\n",
    "temp_x_train=[]\n",
    "\n",
    "for row in x_train.iterrows():\n",
    "    index, data = row\n",
    "    temp_x_train.append(data.tolist())\n",
    "temp_y_train=[]\n",
    "\n",
    "for row in y_train.iterrows():\n",
    "    index, data = row\n",
    "    temp_y_train.append(data.tolist())\n",
    "\n",
    "temp_x_test=[]\n",
    "\n",
    "for row in x_test.iterrows():\n",
    "    index, data = row\n",
    "    temp_x_test.append(data.tolist())\n",
    "temp_y_test=[]\n",
    "\n",
    "for row in y_test.iterrows():\n",
    "    index, data = row\n",
    "    temp_y_test.append(data.tolist())"
   ]
  },
  {
   "cell_type": "markdown",
   "metadata": {},
   "source": [
    "## Part B Change Activation function \n",
    "Activation = **relu** + **tanh** + **tanh**\n",
    "\n",
    "Loss = cross_entropy"
   ]
  },
  {
   "cell_type": "code",
   "execution_count": null,
   "metadata": {},
   "outputs": [],
   "source": [
    "x= np.array(temp_x_train)\n",
    "\n",
    "y=np.array(keras.utils.to_categorical(y_train))"
   ]
  },
  {
   "cell_type": "code",
   "execution_count": null,
   "metadata": {},
   "outputs": [],
   "source": [
    "num_input =  3 # MNIST data input \n",
    "num_classes = 4 # MNIST total classes (0-3 digits)\n",
    "EPOCHS = 10000\n",
    "BATCH_SIZE = 1000\n",
    "display_step = 500\n",
    "with tf.name_scope('Inputs_B'):\n",
    "    X = tf.placeholder(\"float\", [None, num_input],name='Features_B')\n",
    "    Y = tf.placeholder(\"float\", [None, num_classes],name='Label_B')\n",
    "\n",
    "# using two numpy arrays\n",
    "features, labels = (X, Y)\n",
    "\n",
    "# make a simple model\n",
    "def Neuron(x):\n",
    "    with tf.name_scope('layer1_B'):\n",
    "        net = tf.layers.dense(x, 100, activation=tf.nn.relu)\n",
    "        \n",
    "    with tf.name_scope('layer2_B'):\n",
    "        net = tf.layers.dense(net, 50, activation=tf.tanh)\n",
    "        \n",
    "    with tf.name_scope('layer3_B'):    \n",
    "        net = tf.layers.dense(net, 20, activation=tf.tanh)\n",
    "        \n",
    "    with tf.name_scope('out_layer_B'):    \n",
    "        prediction = tf.layers.dense(net, 4)\n",
    "    return prediction\n",
    "\n",
    "prediction = Neuron(X)\n",
    "loss = tf.reduce_mean(tf.nn.softmax_cross_entropy_with_logits(logits=prediction, labels=Y)) \n",
    "tf.summary.scalar('loss_B',loss)\n",
    "#tf.losses.mean_squared_error(prediction, y) # pass the second value \n",
    "correct_pred = tf.equal(tf.argmax(prediction, 1), tf.argmax(Y, 1))\n",
    "accuracy = tf.reduce_mean(tf.cast(correct_pred, tf.float32))\n",
    "tf.summary.scalar('acuracy_B',accuracy)\n",
    "#from iter.get_net() as label\n",
    "train_op = tf.train.AdamOptimizer().minimize(loss)\n",
    "with tf.Session() as sess:\n",
    "    sess.run(tf.global_variables_initializer())\n",
    "    sess.run(tf.local_variables_initializer())\n",
    "    merge_summary= tf.summary.merge_all()\n",
    "    writer = tf.summary.FileWriter('C:/Users/BoyangWei.LAPTOP-SRSNTDRH/7390/TensorFlow/files/B')\n",
    "    writer.add_graph(sess.graph)\n",
    "    for i in range(EPOCHS):\n",
    "        _, loss_value,acc_value = sess.run([train_op, loss,accuracy],feed_dict={X: x, Y: y})\n",
    "        if i% display_step == 0:\n",
    "            print(\"Iter: {}, Loss: {:.4f}\".format(i+1, loss_value)) \n",
    "            print(\"Accurancy: \" +str(acc_value))\n",
    "            print(x.shape)\n",
    "            summary=sess.run(merge_summary,feed_dict={X:x, Y:y})\n",
    "            writer.add_summary(summary,i)\n",
    "    correct_pred = tf.equal(tf.argmax(prediction, 1), tf.argmax(Y, 1))\n",
    "    accuracy = tf.reduce_mean(tf.cast(correct_pred, tf.float32))\n",
    "    print(\"Test accuracy: \"+ str(accuracy.eval({X: np.array(temp_x_test), Y: np.array(keras.utils.to_categorical(y_test))})))"
   ]
  },
  {
   "cell_type": "markdown",
   "metadata": {},
   "source": [
    "* Change the activation function. How does it effect the accuracy?\n",
    "\n",
    "**Answer:** The Auccracy gets increased.\n",
    "\n",
    "* How does it effect how quickly the network plateaus?\n",
    "\n",
    "**Answer:**  The plateaus gets shorter."
   ]
  }
 ],
 "metadata": {
  "kernelspec": {
   "display_name": "Python 3",
   "language": "python",
   "name": "python3"
  },
  "language_info": {
   "codemirror_mode": {
    "name": "ipython",
    "version": 3
   },
   "file_extension": ".py",
   "mimetype": "text/x-python",
   "name": "python",
   "nbconvert_exporter": "python",
   "pygments_lexer": "ipython3",
   "version": "3.6.5"
  }
 },
 "nbformat": 4,
 "nbformat_minor": 2
}
