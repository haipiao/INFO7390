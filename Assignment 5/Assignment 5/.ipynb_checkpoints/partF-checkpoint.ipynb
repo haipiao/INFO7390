{
 "cells": [
  {
   "cell_type": "code",
   "execution_count": 1,
   "metadata": {},
   "outputs": [
    {
     "name": "stderr",
     "output_type": "stream",
     "text": [
      "/anaconda3/lib/python3.6/site-packages/h5py/__init__.py:36: FutureWarning: Conversion of the second argument of issubdtype from `float` to `np.floating` is deprecated. In future, it will be treated as `np.float64 == np.dtype(float).type`.\n",
      "  from ._conv import register_converters as _register_converters\n",
      "Using TensorFlow backend.\n"
     ]
    }
   ],
   "source": [
    "import tensorflow as tf\n",
    "import numpy as np\n",
    "import keras\n",
    "import pandas as pd\n",
    "\n",
    "x_train = pd.read_csv('trainingfeatures.csv').drop(columns=['Unnamed: 0'])\n",
    "y_train = pd.read_csv('traininglabels.csv').drop(columns=['Unnamed: 0'])\n",
    "x_test = pd.read_csv('testingfeatures.csv').drop(columns=['Unnamed: 0'])\n",
    "y_test = pd.read_csv('testinglabels.csv').drop(columns=['Unnamed: 0'])\n",
    "temp_x_train=[]\n",
    "\n",
    "for row in x_train.iterrows():\n",
    "    index, data = row\n",
    "    temp_x_train.append(data.tolist())\n",
    "temp_y_train=[]\n",
    "\n",
    "for row in y_train.iterrows():\n",
    "    index, data = row\n",
    "    temp_y_train.append(data.tolist())\n",
    "\n",
    "temp_x_test=[]\n",
    "\n",
    "for row in x_test.iterrows():\n",
    "    index, data = row\n",
    "    temp_x_test.append(data.tolist())\n",
    "temp_y_test=[]\n",
    "\n",
    "for row in y_test.iterrows():\n",
    "    index, data = row\n",
    "    temp_y_test.append(data.tolist())\n",
    "    \n",
    "x= np.array(temp_x_train)\n",
    "\n",
    "y=np.array(keras.utils.to_categorical(y_train))\n",
    "num_input =  3 # MNIST data input \n",
    "num_classes = 4 # MNIST total classes (0-3 digits)"
   ]
  },
  {
   "cell_type": "markdown",
   "metadata": {},
   "source": [
    "## Part F Change Network Architecture \n",
    "Activation = tanh + relu + softmax\n",
    "\n",
    "Loss = cross_entropy\n",
    "\n",
    "Epochs = 10000\n",
    "\n",
    "optimizer = ADAM\n",
    "\n",
    "**Number of Layers = 3->4**"
   ]
  },
  {
   "cell_type": "code",
   "execution_count": null,
   "metadata": {},
   "outputs": [
    {
     "name": "stdout",
     "output_type": "stream",
     "text": [
      "Iter: 1, Loss: 0.7777\n",
      "Accurancy: 0.25175\n",
      "Iter: 501, Loss: 0.1832\n",
      "Accurancy: 0.2915\n",
      "Iter: 1001, Loss: 0.1654\n",
      "Accurancy: 0.3475\n",
      "Iter: 1501, Loss: 0.1585\n",
      "Accurancy: 0.396\n"
     ]
    }
   ],
   "source": [
    "EPOCHS = 10000\n",
    "BATCH_SIZE = 1000\n",
    "display_step = 500\n",
    "with tf.name_scope('Inputs_F'):\n",
    "    X = tf.placeholder(\"float\", [None, num_input],name='Features_F')\n",
    "    Y = tf.placeholder(\"float\", [None, num_classes],name='Label_F')\n",
    "\n",
    "# using two numpy arrays\n",
    "features, labels = (X, Y)\n",
    "\n",
    "# make a simple model\n",
    "def Neuron(x):\n",
    "    with tf.name_scope('layer1_F'):\n",
    "        net = tf.layers.dense(x, 100, activation=tf.nn.relu)\n",
    "        \n",
    "    with tf.name_scope('layer2_F'):\n",
    "        net = tf.layers.dense(net, 50, activation=tf.tanh)\n",
    "        \n",
    "    with tf.name_scope('layer3_F'):    \n",
    "        net = tf.layers.dense(net, 30, activation=tf.nn.softmax)\n",
    "    \n",
    "    with tf.name_scope('layer4_F'):\n",
    "        net = tf.layers.dense(net,20,activation=tf.sigmoid)\n",
    "        \n",
    "    with tf.name_scope('out_layer_F'):    \n",
    "        prediction = tf.layers.dense(net, 4)\n",
    "    return prediction\n",
    "\n",
    "\n",
    "prediction = Neuron(X)\n",
    "#loss = tf.reduce_mean(tf.nn.softmax_cross_entropy_with_logits(logits=prediction, labels=Y)) \n",
    "\n",
    "loss = tf.losses.mean_squared_error(labels=Y, predictions=prediction)\n",
    "tf.summary.scalar('loss_F',loss)\n",
    "#tf.losses.mean_squared_error(prediction, y) # pass the second value \n",
    "correct_pred = tf.equal(tf.argmax(prediction, 1), tf.argmax(Y, 1))\n",
    "accuracy = tf.reduce_mean(tf.cast(correct_pred, tf.float32))\n",
    "tf.summary.scalar('acuracy_F',accuracy)\n",
    "#from iter.get_net() as label\n",
    "train_op = tf.train.AdamOptimizer().minimize(loss)\n",
    "with tf.Session() as sess:\n",
    "    sess.run(tf.global_variables_initializer())\n",
    "    sess.run(tf.local_variables_initializer())\n",
    "    merge_summary= tf.summary.merge_all()\n",
    "    writer = tf.summary.FileWriter('files/F')\n",
    "    writer.add_graph(sess.graph)\n",
    "    for i in range(EPOCHS):\n",
    "        _, loss_value,acc_value = sess.run([train_op, loss,accuracy],feed_dict={X: x, Y: y})\n",
    "        if i% display_step == 0:\n",
    "            print(\"Iter: {}, Loss: {:.4f}\".format(i+1, loss_value)) \n",
    "            print(\"Accurancy: \" +str(acc_value))\n",
    "            summary=sess.run(merge_summary,feed_dict={X: x,Y: y})\n",
    "            writer.add_summary(summary,i)\n",
    "    correct_pred = tf.equal(tf.argmax(prediction, 1), tf.argmax(Y, 1))\n",
    "    accuracy = tf.reduce_mean(tf.cast(correct_pred, tf.float32))\n",
    "    print(\"Test accuracy: \"+ str(accuracy.eval({X: np.array(temp_x_test), Y: np.array(keras.utils.to_categorical(y_test))})))"
   ]
  },
  {
   "cell_type": "markdown",
   "metadata": {},
   "source": [
    "* Change the network architecture. How does it effect the accuracy?\n",
    "\n",
    "**Answer:** The Auccracy gets slightly increased.\n",
    "\n",
    "* How does it effect how quickly the network plateaus?\n",
    "\n",
    "**Answer:**  The plateaus gets shorter."
   ]
  },
  {
   "cell_type": "code",
   "execution_count": null,
   "metadata": {},
   "outputs": [],
   "source": []
  }
 ],
 "metadata": {
  "kernelspec": {
   "display_name": "Python 3",
   "language": "python",
   "name": "python3"
  },
  "language_info": {
   "codemirror_mode": {
    "name": "ipython",
    "version": 3
   },
   "file_extension": ".py",
   "mimetype": "text/x-python",
   "name": "python",
   "nbconvert_exporter": "python",
   "pygments_lexer": "ipython3",
   "version": "3.6.5"
  }
 },
 "nbformat": 4,
 "nbformat_minor": 2
}
